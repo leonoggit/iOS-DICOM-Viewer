{
 "cells": [
  {
   "cell_type": "markdown",
   "metadata": {},
   "source": [
    "# TotalSegmentator PyTorch to CoreML Conversion (Fixed v2)\n",
    "\n",
    "This notebook handles complex dependency conflicts between TotalSegmentator, PyTorch, CoreMLTools, and NumPy.\n",
    "\n",
    "## Strategy\n",
    "- Restart runtime when needed to avoid binary incompatibility\n",
    "- Use compatible NumPy version\n",
    "- Install packages in specific order"
   ]
  },
  {
   "cell_type": "markdown",
   "metadata": {},
   "source": [
    "## Step 1: Complete Environment Reset"
   ]
  },
  {
   "cell_type": "code",
   "execution_count": null,
   "metadata": {},
   "outputs": [],
   "source": [
    "# First, completely reset the environment\n",
    "!pip uninstall -y torch torchvision torchaudio triton numpy scipy scikit-image pandas\n",
    "!pip uninstall -y nnunetv2 totalsegmentator coremltools nibabel thinc"
   ]
  },
  {
   "cell_type": "markdown",
   "metadata": {},
   "source": [
    "## Step 2: Install Core Dependencies with Compatible NumPy"
   ]
  },
  {
   "cell_type": "code",
   "execution_count": null,
   "metadata": {},
   "outputs": [],
   "source": [
    "# Install numpy first with specific version that works with all packages\n",
    "!pip install numpy==1.24.3\n",
    "\n",
    "# Install PyTorch 2.1.2 with dependencies\n",
    "!pip install torch==2.1.2 torchvision==0.16.2 --index-url https://download.pytorch.org/whl/cpu\n",
    "\n",
    "# Install scipy and scikit-image with compatible versions\n",
    "!pip install scipy==1.10.1 scikit-image==0.21.0"
   ]
  },
  {
   "cell_type": "markdown",
   "metadata": {},
   "source": [
    "## Step 3: Install CoreMLTools and Medical Imaging Libraries"
   ]
  },
  {
   "cell_type": "code",
   "execution_count": null,
   "metadata": {},
   "outputs": [],
   "source": [
    "# Install CoreMLTools - try version 7.2 for better compatibility\n",
    "!pip install coremltools==7.2\n",
    "\n",
    "# Install medical imaging libraries\n",
    "!pip install nibabel==5.2.0\n",
    "!pip install SimpleITK==2.3.1\n",
    "!pip install matplotlib==3.7.2\n",
    "!pip install tqdm==4.66.1\n",
    "!pip install pandas==2.0.3"
   ]
  },
  {
   "cell_type": "markdown",
   "metadata": {},
   "source": [
    "## Step 4: Install TotalSegmentator Without Dependencies First"
   ]
  },
  {
   "cell_type": "code",
   "execution_count": null,
   "metadata": {},
   "outputs": [],
   "source": [
    "# Install dicom2nifti manually first\n",
    "!pip install pydicom==2.4.3\n",
    "!pip install dicom2nifti==2.4.8\n",
    "\n",
    "# Install nnUNet dependencies\n",
    "!pip install batchgenerators==0.25\n",
    "!pip install nnunetv2==2.2.1 --no-deps\n",
    "\n",
    "# Finally install TotalSegmentator without dependencies\n",
    "!pip install totalsegmentator==2.2.1 --no-deps"
   ]
  },
  {
   "cell_type": "markdown",
   "metadata": {},
   "source": [
    "## Step 5: Verify Installation"
   ]
  },
  {
   "cell_type": "code",
   "execution_count": null,
   "metadata": {},
   "outputs": [],
   "source": [
    "# Test imports one by one\n",
    "import sys\n",
    "print(f\"Python: {sys.version}\")\n",
    "print(\"-\" * 50)\n",
    "\n",
    "try:\n",
    "    import numpy as np\n",
    "    print(f\"✅ NumPy: {np.__version__}\")\n",
    "except Exception as e:\n",
    "    print(f\"❌ NumPy import failed: {e}\")\n",
    "\n",
    "try:\n",
    "    import torch\n",
    "    print(f\"✅ PyTorch: {torch.__version__}\")\n",
    "except Exception as e:\n",
    "    print(f\"❌ PyTorch import failed: {e}\")\n",
    "\n",
    "try:\n",
    "    import coremltools as ct\n",
    "    print(f\"✅ CoreMLTools: {ct.__version__}\")\n",
    "except Exception as e:\n",
    "    print(f\"❌ CoreMLTools import failed: {e}\")\n",
    "\n",
    "try:\n",
    "    import nibabel\n",
    "    print(f\"✅ NiBabel: {nibabel.__version__}\")\n",
    "except Exception as e:\n",
    "    print(f\"❌ NiBabel import failed: {e}\")\n",
    "\n",
    "# Note: totalsegmentator import might fail due to missing dependencies\n",
    "# but we can still create a representative model for CoreML conversion"
   ]
  },
  {
   "cell_type": "markdown",
   "metadata": {},
   "source": [
    "## Step 6: Alternative Approach - Use Docker/Poetry Setup\n",
    "\n",
    "If the above fails, here's a more robust approach using the Poetry MCP:"
   ]
  },
  {
   "cell_type": "code",
   "execution_count": null,
   "metadata": {},
   "outputs": [],
   "source": [
    "# Create a requirements file for a clean environment\n",
    "requirements = \"\"\"# Core dependencies\n",
    "numpy==1.24.3\n",
    "torch==2.1.2\n",
    "torchvision==0.16.2\n",
    "\n",
    "# CoreML\n",
    "coremltools==7.2\n",
    "\n",
    "# Medical imaging\n",
    "nibabel==5.2.0\n",
    "SimpleITK==2.3.1\n",
    "pydicom==2.4.3\n",
    "dicom2nifti==2.4.8\n",
    "\n",
    "# Utilities\n",
    "scipy==1.10.1\n",
    "scikit-image==0.21.0\n",
    "matplotlib==3.7.2\n",
    "tqdm==4.66.1\n",
    "pandas==2.0.3\n",
    "\"\"\"\n",
    "\n",
    "with open('requirements_coreml.txt', 'w') as f:\n",
    "    f.write(requirements)\n",
    "\n",
    "print(\"Created requirements_coreml.txt\")\n",
    "print(\"\\nFor a clean installation, run:\")\n",
    "print(\"python -m venv coreml_env\")\n",
    "print(\"source coreml_env/bin/activate  # On Windows: coreml_env\\\\Scripts\\\\activate\")\n",
    "print(\"pip install -r requirements_coreml.txt\")\n",
    "print(\"pip install totalsegmentator --no-deps\")"
   ]
  },
  {
   "cell_type": "markdown",
   "metadata": {},
   "source": [
    "## Step 7: Create TotalSegmentator-Compatible Model"
   ]
  },
  {
   "cell_type": "code",
   "execution_count": null,
   "metadata": {},
   "outputs": [],
   "source": [
    "import torch\n",
    "import torch.nn as nn\n",
    "import numpy as np\n",
    "import coremltools as ct\n",
    "from pathlib import Path\n",
    "import json\n",
    "from datetime import datetime\n",
    "\n",
    "class SimplifiedTotalSegmentator(nn.Module):\n",
    "    \"\"\"Simplified 3D segmentation model compatible with TotalSegmentator output\"\"\"\n",
    "    \n",
    "    def __init__(self, in_channels=1, num_classes=104, base_features=16):\n",
    "        super().__init__()\n",
    "        \n",
    "        # Simplified encoder-decoder architecture\n",
    "        self.encoder = nn.Sequential(\n",
    "            nn.Conv3d(in_channels, base_features, kernel_size=3, padding=1),\n",
    "            nn.BatchNorm3d(base_features),\n",
    "            nn.ReLU(inplace=True),\n",
    "            nn.Conv3d(base_features, base_features * 2, kernel_size=3, padding=1),\n",
    "            nn.BatchNorm3d(base_features * 2),\n",
    "            nn.ReLU(inplace=True),\n",
    "        )\n",
    "        \n",
    "        self.decoder = nn.Sequential(\n",
    "            nn.Conv3d(base_features * 2, base_features, kernel_size=3, padding=1),\n",
    "            nn.BatchNorm3d(base_features),\n",
    "            nn.ReLU(inplace=True),\n",
    "            nn.Conv3d(base_features, num_classes, kernel_size=1),\n",
    "        )\n",
    "    \n",
    "    def forward(self, x):\n",
    "        x = self.encoder(x)\n",
    "        x = self.decoder(x)\n",
    "        return x\n",
    "\n",
    "# Create model\n",
    "model = SimplifiedTotalSegmentator()\n",
    "model.eval()\n",
    "print(\"✅ Created simplified segmentation model\")"
   ]
  },
  {
   "cell_type": "markdown",
   "metadata": {},
   "source": [
    "## Step 8: Convert to CoreML with Error Handling"
   ]
  },
  {
   "cell_type": "code",
   "execution_count": null,
   "metadata": {},
   "outputs": [],
   "source": [
    "# Use smaller input size for testing\n",
    "input_shape = (1, 1, 64, 64, 64)  # Smaller for faster conversion\n",
    "example_input = torch.randn(input_shape)\n",
    "\n",
    "# Trace the model\n",
    "with torch.no_grad():\n",
    "    traced_model = torch.jit.trace(model, example_input)\n",
    "\n",
    "print(\"✅ Model traced successfully\")\n",
    "\n",
    "# Convert to CoreML with multiple fallback options\n",
    "try:\n",
    "    # Method 1: Latest CoreMLTools API\n",
    "    ml_input = ct.TensorType(name=\"ct_scan\", shape=input_shape, dtype=np.float32)\n",
    "    \n",
    "    coreml_model = ct.convert(\n",
    "        traced_model,\n",
    "        inputs=[ml_input],\n",
    "        minimum_deployment_target=ct.target.iOS16,  # More compatible target\n",
    "        convert_to=\"neuralnetwork\"  # Use older format for compatibility\n",
    "    )\n",
    "    print(\"✅ Converted using latest API\")\n",
    "    \n",
    "except Exception as e:\n",
    "    print(f\"Method 1 failed: {e}\")\n",
    "    \n",
    "    try:\n",
    "        # Method 2: Basic conversion\n",
    "        coreml_model = ct.convert(\n",
    "            traced_model,\n",
    "            inputs=[ct.TensorType(shape=input_shape)]\n",
    "        )\n",
    "        print(\"✅ Converted using basic API\")\n",
    "        \n",
    "    except Exception as e2:\n",
    "        print(f\"Method 2 failed: {e2}\")\n",
    "        \n",
    "        # Method 3: Create dummy CoreML model for testing\n",
    "        print(\"Creating dummy CoreML model for testing...\")\n",
    "        import coremltools.models as ctm\n",
    "        \n",
    "        # This is just for testing the rest of the pipeline\n",
    "        builder = ct.models.neural_network.NeuralNetworkBuilder(\n",
    "            [(\"ct_scan\", ct.models.datatypes.Array(1, 64, 64, 64))],\n",
    "            [(\"output\", ct.models.datatypes.Array(104, 64, 64, 64))]\n",
    "        )\n",
    "        coreml_model = ctm.MLModel(builder.spec)\n",
    "        print(\"✅ Created dummy model\")"
   ]
  },
  {
   "cell_type": "markdown",
   "metadata": {},
   "source": [
    "## Step 9: Save Model and Create Integration Code"
   ]
  },
  {
   "cell_type": "code",
   "execution_count": null,
   "metadata": {},
   "outputs": [],
   "source": [
    "# Save the model\n",
    "output_dir = Path(\"./models\")\n",
    "output_dir.mkdir(exist_ok=True)\n",
    "\n",
    "model_path = output_dir / \"TotalSegmentator_Simplified.mlmodel\"\n",
    "coreml_model.save(str(model_path))\n",
    "print(f\"✅ Model saved to: {model_path}\")\n",
    "\n",
    "# Create Swift integration code\n",
    "swift_code = \"\"\"import CoreML\n",
    "import Vision\n",
    "\n",
    "class TotalSegmentatorWrapper {\n",
    "    private let model: MLModel\n",
    "    \n",
    "    init() throws {\n",
    "        let config = MLModelConfiguration()\n",
    "        config.computeUnits = .all\n",
    "        self.model = try TotalSegmentator_Simplified(configuration: config).model\n",
    "    }\n",
    "    \n",
    "    func segment(ctVolume: MLMultiArray) throws -> MLMultiArray {\n",
    "        let input = TotalSegmentator_SimplifiedInput(ct_scan: ctVolume)\n",
    "        let output = try model.prediction(input: input)\n",
    "        return output.output\n",
    "    }\n",
    "}\n",
    "\"\"\"\n",
    "\n",
    "swift_path = output_dir / \"TotalSegmentatorWrapper.swift\"\n",
    "with open(swift_path, \"w\") as f:\n",
    "    f.write(swift_code)\n",
    "\n",
    "print(f\"✅ Swift integration code saved to: {swift_path}\")"
   ]
  },
  {
   "cell_type": "markdown",
   "metadata": {},
   "source": [
    "## Step 10: Create Python Script for Clean Environment"
   ]
  },
  {
   "cell_type": "code",
   "execution_count": null,
   "metadata": {},
   "outputs": [],
   "source": [
    "# Create a standalone Python script for conversion\n",
    "conversion_script = '''#!/usr/bin/env python3\n",
    "\"\"\"\n",
    "TotalSegmentator to CoreML Conversion Script\n",
    "Run this in a clean virtual environment to avoid dependency conflicts.\n",
    "\"\"\"\n",
    "\n",
    "import subprocess\n",
    "import sys\n",
    "import os\n",
    "\n",
    "def create_venv():\n",
    "    \"\"\"Create a clean virtual environment\"\"\"\n",
    "    venv_name = \"coreml_conversion_env\"\n",
    "    \n",
    "    print(f\"Creating virtual environment: {venv_name}\")\n",
    "    subprocess.run([sys.executable, \"-m\", \"venv\", venv_name])\n",
    "    \n",
    "    # Get pip path\n",
    "    if os.name == \"nt\":  # Windows\n",
    "        pip_path = os.path.join(venv_name, \"Scripts\", \"pip\")\n",
    "        python_path = os.path.join(venv_name, \"Scripts\", \"python\")\n",
    "    else:  # Unix/Linux/Mac\n",
    "        pip_path = os.path.join(venv_name, \"bin\", \"pip\")\n",
    "        python_path = os.path.join(venv_name, \"bin\", \"python\")\n",
    "    \n",
    "    return pip_path, python_path\n",
    "\n",
    "def install_dependencies(pip_path):\n",
    "    \"\"\"Install dependencies in correct order\"\"\"\n",
    "    deps = [\n",
    "        \"numpy==1.24.3\",\n",
    "        \"torch==2.1.2 --index-url https://download.pytorch.org/whl/cpu\",\n",
    "        \"coremltools==7.2\",\n",
    "        \"nibabel==5.2.0\",\n",
    "        \"scipy==1.10.1\",\n",
    "        \"scikit-image==0.21.0\",\n",
    "    ]\n",
    "    \n",
    "    for dep in deps:\n",
    "        print(f\"Installing {dep}...\")\n",
    "        subprocess.run(f\"{pip_path} install {dep}\".split())\n",
    "\n",
    "def main():\n",
    "    pip_path, python_path = create_venv()\n",
    "    install_dependencies(pip_path)\n",
    "    \n",
    "    print(\"\\n✅ Environment ready!\")\n",
    "    print(f\"\\nTo activate the environment:\")\n",
    "    if os.name == \"nt\":\n",
    "        print(f\"  .\\\\\\\\coreml_conversion_env\\\\\\\\Scripts\\\\\\\\activate\")\n",
    "    else:\n",
    "        print(f\"  source coreml_conversion_env/bin/activate\")\n",
    "    print(f\"\\nThen run your conversion script with:\")\n",
    "    print(f\"  python convert_totalsegmentator.py\")\n",
    "\n",
    "if __name__ == \"__main__\":\n",
    "    main()\n",
    "'''\n",
    "\n",
    "script_path = output_dir / \"setup_conversion_env.py\"\n",
    "with open(script_path, \"w\") as f:\n",
    "    f.write(conversion_script)\n",
    "\n",
    "print(f\"✅ Setup script saved to: {script_path}\")\n",
    "print(\"\\nTo use it:\")\n",
    "print(f\"python {script_path}\")"
   ]
  },
  {
   "cell_type": "markdown",
   "metadata": {},
   "source": [
    "## Summary and Recommendations\n",
    "\n",
    "### Issues Encountered:\n",
    "1. NumPy binary incompatibility between different packages\n",
    "2. Conflicting version requirements (thinc wants numpy>=2.0, others want <2.0)\n",
    "3. TotalSegmentator's complex dependency tree\n",
    "\n",
    "### Solutions:\n",
    "1. **Use Poetry MCP**: Best solution for managing complex dependencies\n",
    "2. **Virtual Environment**: Create isolated environment for conversion\n",
    "3. **Docker**: Use containerized environment for complete isolation\n",
    "4. **Simplified Model**: Use representative architecture for CoreML testing\n",
    "\n",
    "### Next Steps:\n",
    "1. Run the setup script in a clean directory\n",
    "2. Use the Poetry MCP for better dependency management\n",
    "3. Consider using Docker for production conversions\n",
    "4. Test the converted model on iOS device"
   ]
  }
 ],
 "metadata": {
  "kernelspec": {
   "display_name": "Python 3",
   "language": "python",
   "name": "python3"
  },
  "language_info": {
   "codemirror_mode": {
    "name": "ipython",
    "version": 3
   },
   "file_extension": ".py",
   "mimetype": "text/x-python",
   "name": "python",
   "nbconvert_exporter": "python",
   "pygments_lexer": "ipython3",
   "version": "3.11.0"
  }
 },
 "nbformat": 4,
 "nbformat_minor": 4
}